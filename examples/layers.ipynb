{
 "cells": [
  {
   "cell_type": "markdown",
   "metadata": {},
   "source": [
    "# Setup"
   ]
  },
  {
   "cell_type": "code",
   "execution_count": 1,
   "metadata": {},
   "outputs": [],
   "source": [
    "%gui qt5\n",
    "\n",
    "from skimage import data\n",
    "from skimage.color import rgb2gray\n",
    "import napari_gui as gui\n",
    "from numpy import array, random"
   ]
  },
  {
   "cell_type": "markdown",
   "metadata": {},
   "source": [
    "## Display a single image"
   ]
  },
  {
   "cell_type": "code",
   "execution_count": 2,
   "metadata": {},
   "outputs": [
    {
     "name": "stderr",
     "output_type": "stream",
     "text": [
      "/Users/nicholassofroniew/anaconda3/lib/python3.6/site-packages/vispy/visuals/isocurve.py:22: UserWarning: VisPy is not yet compatible with matplotlib 2.2+\n",
      "  warnings.warn(\"VisPy is not yet compatible with matplotlib 2.2+\")\n"
     ]
    }
   ],
   "source": [
    "viewer = gui.imshow(data.camera())"
   ]
  },
  {
   "cell_type": "markdown",
   "metadata": {},
   "source": [
    "### Add a new layer"
   ]
  },
  {
   "cell_type": "code",
   "execution_count": 3,
   "metadata": {},
   "outputs": [
    {
     "data": {
      "text/plain": [
       "<napari_gui.layers._image_layer.Image at 0x1193a9908>"
      ]
     },
     "execution_count": 3,
     "metadata": {},
     "output_type": "execute_result"
    }
   ],
   "source": [
    "viewer.add_image(rgb2gray(data.astronaut()),{})"
   ]
  },
  {
   "cell_type": "markdown",
   "metadata": {},
   "source": [
    "### Add a third layer"
   ]
  },
  {
   "cell_type": "code",
   "execution_count": 4,
   "metadata": {},
   "outputs": [
    {
     "data": {
      "text/plain": [
       "<napari_gui.layers._image_layer.Image at 0x1104e1588>"
      ]
     },
     "execution_count": 4,
     "metadata": {},
     "output_type": "execute_result"
    }
   ],
   "source": [
    "viewer.add_image(data.camera(),{})"
   ]
  },
  {
   "cell_type": "markdown",
   "metadata": {},
   "source": [
    "### Add a marker layer"
   ]
  },
  {
   "cell_type": "code",
   "execution_count": 5,
   "metadata": {},
   "outputs": [
    {
     "data": {
      "text/plain": [
       "<napari_gui.layers._markers_layer.Markers at 0x11a754470>"
      ]
     },
     "execution_count": 5,
     "metadata": {},
     "output_type": "execute_result"
    },
    {
     "name": "stderr",
     "output_type": "stream",
     "text": [
      "WARNING: Traceback (most recent call last):\n",
      "  File \"/Users/nicholassofroniew/anaconda3/lib/python3.6/runpy.py\", line 193, in _run_module_as_main\n",
      "    \"__main__\", mod_spec)\n",
      "  File \"/Users/nicholassofroniew/anaconda3/lib/python3.6/runpy.py\", line 85, in _run_code\n",
      "    exec(code, run_globals)\n",
      "  File \"/Users/nicholassofroniew/anaconda3/lib/python3.6/site-packages/ipykernel_launcher.py\", line 16, in <module>\n",
      "    app.launch_new_instance()\n",
      "  File \"/Users/nicholassofroniew/anaconda3/lib/python3.6/site-packages/traitlets/config/application.py\", line 658, in launch_instance\n",
      "    app.start()\n",
      "  File \"/Users/nicholassofroniew/anaconda3/lib/python3.6/site-packages/ipykernel/kernelapp.py\", line 499, in start\n",
      "    self.io_loop.start()\n",
      "  File \"/Users/nicholassofroniew/anaconda3/lib/python3.6/site-packages/tornado/platform/asyncio.py\", line 132, in start\n",
      "    self.asyncio_loop.run_forever()\n",
      "  File \"/Users/nicholassofroniew/anaconda3/lib/python3.6/asyncio/base_events.py\", line 422, in run_forever\n",
      "    self._run_once()\n",
      "  File \"/Users/nicholassofroniew/anaconda3/lib/python3.6/asyncio/base_events.py\", line 1432, in _run_once\n",
      "    handle._run()\n",
      "  File \"/Users/nicholassofroniew/anaconda3/lib/python3.6/asyncio/events.py\", line 145, in _run\n",
      "    self._callback(*self._args)\n",
      "  File \"/Users/nicholassofroniew/anaconda3/lib/python3.6/site-packages/tornado/ioloop.py\", line 758, in _run_callback\n",
      "    ret = callback()\n",
      "  File \"/Users/nicholassofroniew/anaconda3/lib/python3.6/site-packages/tornado/stack_context.py\", line 300, in null_wrapper\n",
      "    return fn(*args, **kwargs)\n",
      "  File \"/Users/nicholassofroniew/anaconda3/lib/python3.6/site-packages/ipykernel/kernelbase.py\", line 295, in advance_eventloop\n",
      "    eventloop(self)\n",
      "  File \"/Users/nicholassofroniew/anaconda3/lib/python3.6/site-packages/ipykernel/eventloops.py\", line 137, in loop_qt5\n",
      "    return loop_qt4(kernel)\n",
      "  File \"/Users/nicholassofroniew/anaconda3/lib/python3.6/site-packages/ipykernel/eventloops.py\", line 130, in loop_qt4\n",
      "    _loop_qt(kernel.app)\n",
      "  File \"/Users/nicholassofroniew/anaconda3/lib/python3.6/site-packages/ipykernel/eventloops.py\", line 114, in _loop_qt\n",
      "    app.exec_()\n",
      "  File \"/Users/nicholassofroniew/Github/napari-gui/napari_gui/elements/qt/_layerPanel.py\", line 41, in on_click\n",
      "    self.layers.remove_selected()\n",
      "  File \"/Users/nicholassofroniew/Github/napari-gui/napari_gui/elements/_layer_list.py\", line 333, in remove_selected\n",
      "    self.pop(i)\n",
      "  File \"/Users/nicholassofroniew/Github/napari-gui/napari_gui/elements/_layer_list.py\", line 199, in pop\n",
      "    self.events.remove_item(item=item)\n",
      "  File \"/Users/nicholassofroniew/anaconda3/lib/python3.6/site-packages/vispy/util/event.py\", line 455, in __call__\n",
      "    self._invoke_callback(cb, event)\n",
      "  File \"/Users/nicholassofroniew/anaconda3/lib/python3.6/site-packages/vispy/util/event.py\", line 471, in _invoke_callback\n",
      "    cb(event)\n",
      "  File \"/Users/nicholassofroniew/Github/napari-gui/napari_gui/elements/_layer_list.py\", line 310, in _remove\n",
      "    layer.viewer = None\n",
      "  File \"/Users/nicholassofroniew/Github/napari-gui/napari_gui/layers/_base_layer.py\", line 96, in viewer\n",
      "    self._parent = parent\n",
      "  File \"/Users/nicholassofroniew/Github/napari-gui/napari_gui/layers/_visual_wrapper.py\", line 44, in _parent\n",
      "    self._node.parent = parent\n",
      "  File \"/Users/nicholassofroniew/anaconda3/lib/python3.6/site-packages/vispy/util/frozen.py\", line 17, in __setattr__\n",
      "    object.__setattr__(self, key, value)\n",
      "  File \"/Users/nicholassofroniew/anaconda3/lib/python3.6/site-packages/vispy/scene/node.py\", line 209, in parent\n",
      "    self._update_trsys(None)\n",
      "  File \"/Users/nicholassofroniew/Github/napari-gui/napari_gui/_vispy/scene/visuals.py\", line 82, in _update_trsys\n",
      "    self.transforms.scene_transform = scene.node_transform(doc)\n",
      "  File \"/Users/nicholassofroniew/anaconda3/lib/python3.6/site-packages/vispy/visuals/transforms/transform_system.py\", line 276, in scene_transform\n",
      "    self._scene_transform.transforms = tr\n",
      "  File \"/Users/nicholassofroniew/anaconda3/lib/python3.6/site-packages/vispy/visuals/transforms/chain.py\", line 96, in transforms\n",
      "    self.update()\n",
      "  File \"/Users/nicholassofroniew/anaconda3/lib/python3.6/site-packages/vispy/visuals/transforms/base_transform.py\", line 153, in update\n",
      "    self.changed(*args)\n",
      "  File \"/Users/nicholassofroniew/anaconda3/lib/python3.6/site-packages/vispy/util/event.py\", line 455, in __call__\n",
      "    self._invoke_callback(cb, event)\n",
      "  File \"/Users/nicholassofroniew/anaconda3/lib/python3.6/site-packages/vispy/util/event.py\", line 471, in _invoke_callback\n",
      "    cb(event)\n",
      "  File \"/Users/nicholassofroniew/anaconda3/lib/python3.6/site-packages/vispy/visuals/transforms/chain.py\", line 212, in _subtr_changed\n",
      "    self.update(ev)\n",
      "  File \"/Users/nicholassofroniew/anaconda3/lib/python3.6/site-packages/vispy/visuals/transforms/base_transform.py\", line 153, in update\n",
      "    self.changed(*args)\n",
      "  File \"/Users/nicholassofroniew/anaconda3/lib/python3.6/site-packages/vispy/util/event.py\", line 455, in __call__\n",
      "    self._invoke_callback(cb, event)\n",
      "  File \"/Users/nicholassofroniew/anaconda3/lib/python3.6/site-packages/vispy/util/event.py\", line 475, in _invoke_callback\n",
      "    self, cb_event=(cb, event))\n",
      "  << caught exception here: >>\n",
      "  File \"/Users/nicholassofroniew/anaconda3/lib/python3.6/site-packages/vispy/util/event.py\", line 471, in _invoke_callback\n",
      "    cb(event)\n",
      "  File \"/Users/nicholassofroniew/anaconda3/lib/python3.6/site-packages/vispy/visuals/transforms/chain.py\", line 281, in source_changed\n",
      "    new_tr = [tr[0]]\n",
      "IndexError: list index out of range\n",
      "ERROR: Invoking <bound method SimplifiedChainTransform.source_changed of <ChainTransform [<STTransform scale=[1. 1. 1. 1.] translate=[0. 0. 0. 0.] at 0x4739066120>,\n",
      "                 <STTransform scale=[1.0227273e+00 1.0227273e+00 1.0000000e-06 1.0000000e+00] translate=[138.18182   26.181818   0.         0.      ] at 0x4718450952>] at 0x1198492e8>> for Event\n"
     ]
    }
   ],
   "source": [
    "marker_list = array([[100, 100], [200, 200], [333, 111]])\n",
    "viewer.add_markers(marker_list, size=20)"
   ]
  },
  {
   "cell_type": "markdown",
   "metadata": {},
   "source": [
    "### Reorder layers"
   ]
  },
  {
   "cell_type": "code",
   "execution_count": null,
   "metadata": {},
   "outputs": [],
   "source": [
    "viewer.layers.swap(0,1)"
   ]
  },
  {
   "cell_type": "code",
   "execution_count": null,
   "metadata": {},
   "outputs": [],
   "source": [
    "viewer.layers.swap(0,3)"
   ]
  },
  {
   "cell_type": "markdown",
   "metadata": {},
   "source": [
    "### Remove first layer"
   ]
  },
  {
   "cell_type": "code",
   "execution_count": null,
   "metadata": {},
   "outputs": [],
   "source": [
    "viewer.layers.remove(viewer.layers[0])"
   ]
  },
  {
   "cell_type": "code",
   "execution_count": null,
   "metadata": {},
   "outputs": [],
   "source": [
    "viewer.layers.pop(1)"
   ]
  },
  {
   "cell_type": "markdown",
   "metadata": {},
   "source": [
    "## Add a multidimensional layer"
   ]
  },
  {
   "cell_type": "code",
   "execution_count": null,
   "metadata": {},
   "outputs": [],
   "source": [
    "viewer = gui.imshow(random.rand(500, 500, 20, 10))"
   ]
  },
  {
   "cell_type": "markdown",
   "metadata": {},
   "source": [
    "### Add a new layer"
   ]
  },
  {
   "cell_type": "code",
   "execution_count": null,
   "metadata": {},
   "outputs": [],
   "source": [
    "viewer.add_image(random.rand(500, 500, 20, 10),{})"
   ]
  },
  {
   "cell_type": "code",
   "execution_count": null,
   "metadata": {},
   "outputs": [],
   "source": []
  }
 ],
 "metadata": {
  "kernelspec": {
   "display_name": "Python 3",
   "language": "python",
   "name": "python3"
  },
  "language_info": {
   "codemirror_mode": {
    "name": "ipython",
    "version": 3
   },
   "file_extension": ".py",
   "mimetype": "text/x-python",
   "name": "python",
   "nbconvert_exporter": "python",
   "pygments_lexer": "ipython3",
   "version": "3.6.5"
  }
 },
 "nbformat": 4,
 "nbformat_minor": 2
}
