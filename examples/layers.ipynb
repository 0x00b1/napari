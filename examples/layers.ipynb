{
 "cells": [
  {
   "cell_type": "markdown",
   "metadata": {},
   "source": [
    "# Setup"
   ]
  },
  {
   "cell_type": "code",
   "execution_count": 1,
   "metadata": {},
   "outputs": [],
   "source": [
    "%gui qt5\n",
    "\n",
    "from skimage import data\n",
    "from skimage.color import rgb2gray\n",
    "import napari_gui as gui\n",
    "from numpy import array, random"
   ]
  },
  {
   "cell_type": "markdown",
   "metadata": {},
   "source": [
    "## Display a single image"
   ]
  },
  {
   "cell_type": "code",
   "execution_count": 2,
   "metadata": {},
   "outputs": [
    {
     "name": "stderr",
     "output_type": "stream",
     "text": [
      "/Users/nicholassofroniew/anaconda3/lib/python3.6/site-packages/vispy/visuals/isocurve.py:22: UserWarning: VisPy is not yet compatible with matplotlib 2.2+\n",
      "  warnings.warn(\"VisPy is not yet compatible with matplotlib 2.2+\")\n"
     ]
    }
   ],
   "source": [
    "viewer = gui.imshow(data.camera())"
   ]
  },
  {
   "cell_type": "markdown",
   "metadata": {},
   "source": [
    "### Add a new layer"
   ]
  },
  {
   "cell_type": "code",
   "execution_count": 3,
   "metadata": {},
   "outputs": [
    {
     "data": {
      "text/plain": [
       "<napari_gui.layers._image_layer.Image at 0x12752b470>"
      ]
     },
     "execution_count": 3,
     "metadata": {},
     "output_type": "execute_result"
    }
   ],
   "source": [
    "viewer.add_image(rgb2gray(data.astronaut()),{})"
   ]
  },
  {
   "cell_type": "markdown",
   "metadata": {},
   "source": [
    "### Add a third layer"
   ]
  },
  {
   "cell_type": "code",
   "execution_count": 4,
   "metadata": {},
   "outputs": [
    {
     "data": {
      "text/plain": [
       "<napari_gui.layers._image_layer.Image at 0x1113848d0>"
      ]
     },
     "execution_count": 4,
     "metadata": {},
     "output_type": "execute_result"
    }
   ],
   "source": [
    "viewer.add_image(data.camera(),{})"
   ]
  },
  {
   "cell_type": "markdown",
   "metadata": {},
   "source": [
    "### Add a marker layer"
   ]
  },
  {
   "cell_type": "code",
   "execution_count": 5,
   "metadata": {},
   "outputs": [
    {
     "data": {
      "text/plain": [
       "<napari_gui.layers._markers_layer.Markers at 0x128680eb8>"
      ]
     },
     "execution_count": 5,
     "metadata": {},
     "output_type": "execute_result"
    }
   ],
   "source": [
    "marker_list = array([[100, 100], [200, 200], [333, 111]])\n",
    "viewer.add_markers(marker_list, size=20)"
   ]
  },
  {
   "cell_type": "markdown",
   "metadata": {},
   "source": [
    "### Reorder layers"
   ]
  },
  {
   "cell_type": "code",
   "execution_count": null,
   "metadata": {},
   "outputs": [],
   "source": [
    "viewer.layers.swap(0,1)"
   ]
  },
  {
   "cell_type": "code",
   "execution_count": null,
   "metadata": {},
   "outputs": [],
   "source": [
    "viewer.layers.swap(0,3)"
   ]
  },
  {
   "cell_type": "markdown",
   "metadata": {},
   "source": [
    "### Remove first layer"
   ]
  },
  {
   "cell_type": "code",
   "execution_count": null,
   "metadata": {},
   "outputs": [],
   "source": [
    "viewer.layers.pop(1)"
   ]
  },
  {
   "cell_type": "markdown",
   "metadata": {},
   "source": [
    "## Add a multidimensional layer"
   ]
  },
  {
   "cell_type": "code",
   "execution_count": null,
   "metadata": {},
   "outputs": [],
   "source": [
    "viewer = gui.imshow(random.rand(500, 500, 20, 10))"
   ]
  },
  {
   "cell_type": "markdown",
   "metadata": {},
   "source": [
    "### Add a new layer"
   ]
  },
  {
   "cell_type": "code",
   "execution_count": null,
   "metadata": {},
   "outputs": [],
   "source": [
    "viewer.add_image(random.rand(500, 500, 20, 10),{})"
   ]
  },
  {
   "cell_type": "code",
   "execution_count": null,
   "metadata": {},
   "outputs": [],
   "source": []
  },
  {
   "cell_type": "code",
   "execution_count": 7,
   "metadata": {},
   "outputs": [],
   "source": [
    "from vispy.visuals import marker_types"
   ]
  },
  {
   "cell_type": "code",
   "execution_count": 11,
   "metadata": {},
   "outputs": [
    {
     "data": {
      "text/plain": [
       "tuple"
      ]
     },
     "execution_count": 11,
     "metadata": {},
     "output_type": "execute_result"
    }
   ],
   "source": [
    "type(marker_types)"
   ]
  },
  {
   "cell_type": "code",
   "execution_count": 14,
   "metadata": {},
   "outputs": [
    {
     "data": {
      "text/plain": [
       "('*',\n",
       " '+',\n",
       " '-',\n",
       " '->',\n",
       " '>',\n",
       " '^',\n",
       " 'arrow',\n",
       " 'clobber',\n",
       " 'cross',\n",
       " 'diamond',\n",
       " 'disc',\n",
       " 'hbar',\n",
       " 'o',\n",
       " 'ring',\n",
       " 's',\n",
       " 'square',\n",
       " 'star',\n",
       " 'tailed_arrow',\n",
       " 'triangle_down',\n",
       " 'triangle_up',\n",
       " 'v',\n",
       " 'vbar',\n",
       " 'x',\n",
       " '|')"
      ]
     },
     "execution_count": 14,
     "metadata": {},
     "output_type": "execute_result"
    }
   ],
   "source": [
    "marker_types"
   ]
  },
  {
   "cell_type": "code",
   "execution_count": 7,
   "metadata": {},
   "outputs": [],
   "source": [
    "from vispy.color import get_color_names"
   ]
  },
  {
   "cell_type": "code",
   "execution_count": 11,
   "metadata": {},
   "outputs": [
    {
     "data": {
      "text/plain": [
       "['aliceblue',\n",
       " 'antiquewhite',\n",
       " 'aqua',\n",
       " 'aquamarine',\n",
       " 'azure',\n",
       " 'b',\n",
       " 'beige',\n",
       " 'bisque',\n",
       " 'black',\n",
       " 'blanchedalmond',\n",
       " 'blue',\n",
       " 'blueviolet',\n",
       " 'brown',\n",
       " 'burlywood',\n",
       " 'c',\n",
       " 'cadetblue',\n",
       " 'chartreuse',\n",
       " 'chocolate',\n",
       " 'coral',\n",
       " 'cornflowerblue',\n",
       " 'cornsilk',\n",
       " 'crimson',\n",
       " 'cyan',\n",
       " 'darkblue',\n",
       " 'darkcyan',\n",
       " 'darkgoldenrod',\n",
       " 'darkgray',\n",
       " 'darkgreen',\n",
       " 'darkgrey',\n",
       " 'darkkhaki',\n",
       " 'darkmagenta',\n",
       " 'darkolivegreen',\n",
       " 'darkorange',\n",
       " 'darkorchid',\n",
       " 'darkred',\n",
       " 'darksalmon',\n",
       " 'darkseagreen',\n",
       " 'darkslateblue',\n",
       " 'darkslategray',\n",
       " 'darkslategrey',\n",
       " 'darkturquoise',\n",
       " 'darkviolet',\n",
       " 'deeppink',\n",
       " 'deepskyblue',\n",
       " 'dimgray',\n",
       " 'dimgrey',\n",
       " 'dodgerblue',\n",
       " 'firebrick',\n",
       " 'floralwhite',\n",
       " 'forestgreen',\n",
       " 'fuchsia',\n",
       " 'g',\n",
       " 'gainsboro',\n",
       " 'ghostwhite',\n",
       " 'gold',\n",
       " 'goldenrod',\n",
       " 'gray',\n",
       " 'green',\n",
       " 'greenyellow',\n",
       " 'grey',\n",
       " 'honeydew',\n",
       " 'hotpink',\n",
       " 'indianred',\n",
       " 'indigo',\n",
       " 'ivory',\n",
       " 'k',\n",
       " 'khaki',\n",
       " 'lavender',\n",
       " 'lavenderblush',\n",
       " 'lawngreen',\n",
       " 'lemonchiffon',\n",
       " 'lightblue',\n",
       " 'lightcoral',\n",
       " 'lightcyan',\n",
       " 'lightgoldenrodyellow',\n",
       " 'lightgray',\n",
       " 'lightgreen',\n",
       " 'lightgrey',\n",
       " 'lightpink',\n",
       " 'lightsalmon',\n",
       " 'lightseagreen',\n",
       " 'lightskyblue',\n",
       " 'lightslategray',\n",
       " 'lightslategrey',\n",
       " 'lightsteelblue',\n",
       " 'lightyellow',\n",
       " 'lime',\n",
       " 'limegreen',\n",
       " 'linen',\n",
       " 'm',\n",
       " 'magenta',\n",
       " 'maroon',\n",
       " 'mediumaquamarine',\n",
       " 'mediumblue',\n",
       " 'mediumorchid',\n",
       " 'mediumpurple',\n",
       " 'mediumseagreen',\n",
       " 'mediumslateblue',\n",
       " 'mediumspringgreen',\n",
       " 'mediumturquoise',\n",
       " 'mediumvioletred',\n",
       " 'midnightblue',\n",
       " 'mintcream',\n",
       " 'mistyrose',\n",
       " 'moccasin',\n",
       " 'navajowhite',\n",
       " 'navy',\n",
       " 'oldlace',\n",
       " 'olive',\n",
       " 'olivedrab',\n",
       " 'orange',\n",
       " 'orangered',\n",
       " 'orchid',\n",
       " 'palegoldenrod',\n",
       " 'palegreen',\n",
       " 'paleturquoise',\n",
       " 'palevioletred',\n",
       " 'papayawhip',\n",
       " 'peachpuff',\n",
       " 'peru',\n",
       " 'pink',\n",
       " 'plum',\n",
       " 'powderblue',\n",
       " 'purple',\n",
       " 'r',\n",
       " 'red',\n",
       " 'rosybrown',\n",
       " 'royalblue',\n",
       " 'saddlebrown',\n",
       " 'salmon',\n",
       " 'sandybrown',\n",
       " 'seagreen',\n",
       " 'seashell',\n",
       " 'sienna',\n",
       " 'silver',\n",
       " 'skyblue',\n",
       " 'slateblue',\n",
       " 'slategray',\n",
       " 'slategrey',\n",
       " 'snow',\n",
       " 'springgreen',\n",
       " 'steelblue',\n",
       " 'tan',\n",
       " 'teal',\n",
       " 'thistle',\n",
       " 'tomato',\n",
       " 'turquoise',\n",
       " 'violet',\n",
       " 'w',\n",
       " 'wheat',\n",
       " 'white',\n",
       " 'whitesmoke',\n",
       " 'y',\n",
       " 'yellow',\n",
       " 'yellowgreen']"
      ]
     },
     "execution_count": 11,
     "metadata": {},
     "output_type": "execute_result"
    }
   ],
   "source": [
    "get_color_names()"
   ]
  },
  {
   "cell_type": "code",
   "execution_count": null,
   "metadata": {},
   "outputs": [],
   "source": []
  },
  {
   "cell_type": "code",
   "execution_count": null,
   "metadata": {},
   "outputs": [],
   "source": []
  },
  {
   "cell_type": "code",
   "execution_count": 9,
   "metadata": {},
   "outputs": [
    {
     "data": {
      "text/plain": [
       "2"
      ]
     },
     "execution_count": 9,
     "metadata": {},
     "output_type": "execute_result"
    }
   ],
   "source": [
    "2"
   ]
  },
  {
   "cell_type": "code",
   "execution_count": null,
   "metadata": {},
   "outputs": [],
   "source": []
  },
  {
   "cell_type": "code",
   "execution_count": null,
   "metadata": {},
   "outputs": [],
   "source": []
  }
 ],
 "metadata": {
  "kernelspec": {
   "display_name": "Python 3",
   "language": "python",
   "name": "python3"
  },
  "language_info": {
   "codemirror_mode": {
    "name": "ipython",
    "version": 3
   },
   "file_extension": ".py",
   "mimetype": "text/x-python",
   "name": "python",
   "nbconvert_exporter": "python",
   "pygments_lexer": "ipython3",
   "version": "3.6.5"
  }
 },
 "nbformat": 4,
 "nbformat_minor": 2
}
